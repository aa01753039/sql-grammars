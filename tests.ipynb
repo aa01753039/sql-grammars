{
 "cells": [
  {
   "cell_type": "code",
   "execution_count": 1,
   "metadata": {},
   "outputs": [],
   "source": [
    "#import necessary libraries\n",
    "from llama_cpp import Llama, LlamaGrammar\n",
    "import json"
   ]
  },
  {
   "cell_type": "code",
   "execution_count": 10,
   "metadata": {},
   "outputs": [
    {
     "name": "stderr",
     "output_type": "stream",
     "text": [
      "from_string grammar:\n",
      "root ::= select-statement root_2 \n",
      "select-statement ::= [S] [E] [L] [E] [C] [T] [ ] select-statement_4 columns select-statement_7 select-statement_9 select-statement_11 select-statement_13 select-statement_15 select-statement_17 \n",
      "root_2 ::= [;] | \n",
      "distinct ::= distinct_18 \n",
      "select-statement_4 ::= distinct | \n",
      "columns ::= [*] | column-or-function columns_21 \n",
      "from-clause ::= from-clause_38 [F] [R] [O] [M] [ ] from-clause_39 from-clause_44 \n",
      "select-statement_7 ::= from-clause | \n",
      "where-clause ::= where-clause_56 [W] [H] [E] [R] [E] [ ] condition \n",
      "select-statement_9 ::= where-clause | \n",
      "join-clause ::= join-clause_58 [J] [O] [I] [N] [ ] table join-clause_60 [ ] [O] [N] [ ] condition \n",
      "select-statement_11 ::= join-clause select-statement_11 | \n",
      "group-by-clause ::= group-by-clause_75 [G] [R] [O] [U] [P] [ ] [B] [Y] [ ] group-columns \n",
      "select-statement_13 ::= group-by-clause | \n",
      "order-by-clause ::= order-by-clause_79 [O] [R] [D] [E] [R] [ ] [B] [Y] [ ] order-columns \n",
      "select-statement_15 ::= order-by-clause | \n",
      "limit-clause ::= limit-clause_86 [L] [I] [M] [I] [T] [ ] number limit-clause_88 \n",
      "select-statement_17 ::= limit-clause | \n",
      "distinct_18 ::= [D] [I] [S] [T] [I] [N] [C] [T] [ ] | \n",
      "column-or-function ::= column-or-function_22 \n",
      "columns_20 ::= [,] [ ] column-or-function \n",
      "columns_21 ::= columns_20 columns_21 | \n",
      "column-or-function_22 ::= column | function column-or-function_26 \n",
      "column ::= column_29 column_32 column_33 \n",
      "function ::= [a-zA-Z_] function_35 [(] function_36 [)] \n",
      "alias ::= alias_49 alias_51 [a-zA-Z] alias_52 \n",
      "column-or-function_26 ::= alias | \n",
      "column_27 ::= schema-name [.] \n",
      "schema-name ::= [e] [m] [p] [l] [o] [y] [e] [e] | [s] [h] [o] [p] | [h] [i] [r] [i] [n] [g] | [e] [v] [a] [l] [u] [a] [t] [i] [o] [n] \n",
      "column_29 ::= column_27 | \n",
      "column_30 ::= table-name [.] \n",
      "table-name ::= [e] [m] [p] [l] [o] [y] [e] [e] | [s] [h] [o] [p] | [h] [i] [r] [i] [n] [g] | [e] [v] [a] [l] [u] [a] [t] [i] [o] [n] \n",
      "column_32 ::= column_30 | \n",
      "column_33 ::= [E] [m] [p] [l] [o] [y] [e] [e] [_] [I] [D] | [N] [a] [m] [e] | [A] [g] [e] | [C] [i] [t] [y] [S] [h] [o] [p] [_] [I] [D] | [N] [a] [m] [e] | [L] [o] [c] [a] [t] [i] [o] [n] | [D] [i] [s] [t] [r] [i] [c] [t] | [N] [u] [m] [b] [e] [r] [_] [p] [r] [o] [d] [u] [c] [t] [s] | [M] [a] [n] [a] [g] [e] [r] [_] [n] [a] [m] [e] [S] [h] [o] [p] [_] [I] [D] | [E] [m] [p] [l] [o] [y] [e] [e] [_] [I] [D] | [S] [t] [a] [r] [t] [_] [f] [r] [o] [m] | [I] [s] [_] [f] [u] [l] [l] [_] [t] [i] [m] [e] [E] [m] [p] [l] [o] [y] [e] [e] [_] [I] [D] | [Y] [e] [a] [r] [_] [a] [w] [a] [r] [d] [e] [d] | [B] [o] [n] [u] [s] | quoted-identifier \n",
      "quoted-identifier ::= [\"] quoted-identifier_89 [\"] \n",
      "function_35 ::= [a-zA-Z0-9_] function_35 | \n",
      "function_36 ::= column | [*] | \n",
      "ws ::= ws_90 \n",
      "from-clause_38 ::= ws | \n",
      "from-clause_39 ::= tables | subquery \n",
      "tables ::= table tables_47 \n",
      "subquery ::= [(] select-statement [)] \n",
      "from-clause_42 ::= ws table-alias \n",
      "table-alias ::= table-alias_53 table-alias_55 [a-zA-Z] \n",
      "from-clause_44 ::= from-clause_42 | \n",
      "table ::= [a-zA-Z_] table_48 | [(] select-statement [)] | quoted-identifier \n",
      "tables_46 ::= [,] [ ] table \n",
      "tables_47 ::= tables_46 tables_47 | \n",
      "table_48 ::= [a-zA-Z0-9_] table_48 | \n",
      "alias_49 ::= ws | \n",
      "alias_50 ::= [A] [S] [ ] | [a] [s] [ ] \n",
      "alias_51 ::= alias_50 | \n",
      "alias_52 ::= [a-zA-Z0-9_] alias_52 | \n",
      "table-alias_53 ::= ws | \n",
      "table-alias_54 ::= [A] [S] [ ] | [a] [s] [ ] \n",
      "table-alias_55 ::= table-alias_54 | \n",
      "where-clause_56 ::= ws | \n",
      "condition ::= condition_61 \n",
      "join-clause_58 ::= ws | \n",
      "join-clause_59 ::= ws alias \n",
      "join-clause_60 ::= join-clause_59 | \n",
      "condition_61 ::= column condition_62 comparator condition_64 condition_65 | column [ ] [I] [N] [ ] [(] select-statement [)] | [E] [X] [I] [S] [T] [S] [ ] [(] select-statement [)] \n",
      "condition_62 ::= ws | \n",
      "comparator ::= [=] | [<] [>] | [<] | [>] | [<] [=] | [>] [=] \n",
      "condition_64 ::= ws | \n",
      "condition_65 ::= value | column \n",
      "value ::= number | quoted-string | [(] select-statement [)] \n",
      "number ::= number_69 number_70 number_73 \n",
      "quoted-string ::= ['] quoted-string_74 ['] \n",
      "number_69 ::= [-] | \n",
      "number_70 ::= [0-9] number_70 | [0-9] \n",
      "number_71 ::= [.] number_72 \n",
      "number_72 ::= [0-9] number_72 | [0-9] \n",
      "number_73 ::= number_71 | \n",
      "quoted-string_74 ::= [^'] quoted-string_74 | \n",
      "group-by-clause_75 ::= ws | \n",
      "group-columns ::= column group-columns_78 \n",
      "group-columns_77 ::= [,] [ ] column \n",
      "group-columns_78 ::= group-columns_77 group-columns_78 | \n",
      "order-by-clause_79 ::= ws | \n",
      "order-columns ::= order-column order-columns_83 \n",
      "order-column ::= column order-column_85 \n",
      "order-columns_82 ::= [,] [ ] order-column \n",
      "order-columns_83 ::= order-columns_82 order-columns_83 | \n",
      "order-column_84 ::= [ ] [A] [S] [C] | [ ] [D] [E] [S] [C] \n",
      "order-column_85 ::= order-column_84 | \n",
      "limit-clause_86 ::= ws | \n",
      "limit-clause_87 ::= [ ] [O] [F] [F] [S] [E] [T] [ ] number \n",
      "limit-clause_88 ::= limit-clause_87 | \n",
      "quoted-identifier_89 ::= [^\"] quoted-identifier_89 | \n",
      "ws_90 ::= [ <U+0009><U+000A>] ws_90 | \n",
      "\n"
     ]
    }
   ],
   "source": [
    "grammar = LlamaGrammar.from_file(\"grammars/grammar_embeded.gbnf\")"
   ]
  },
  {
   "cell_type": "code",
   "execution_count": 11,
   "metadata": {},
   "outputs": [
    {
     "name": "stderr",
     "output_type": "stream",
     "text": [
      "/Users/leslyguerrero/Documents/sql-grammars/.conda/lib/python3.11/site-packages/tqdm/auto.py:21: TqdmWarning: IProgress not found. Please update jupyter and ipywidgets. See https://ipywidgets.readthedocs.io/en/stable/user_install.html\n",
      "  from .autonotebook import tqdm as notebook_tqdm\n"
     ]
    }
   ],
   "source": [
    "#build small pretrained model from hugging face\n",
    "llm = Llama.from_pretrained(\n",
    "    repo_id=\"Qwen/Qwen1.5-0.5B-Chat-GGUF\",\n",
    "    filename=\"*q8_0.gguf\",\n",
    "    verbose=False\n",
    ")"
   ]
  },
  {
   "cell_type": "code",
   "execution_count": 14,
   "metadata": {},
   "outputs": [],
   "source": [
    "#prompt the model\n",
    "response = llm(\n",
    "    \"Show all employees\", #prompt\n",
    "    grammar=grammar, max_tokens=-1 # as necessary tokens\n",
    ")"
   ]
  },
  {
   "cell_type": "code",
   "execution_count": 15,
   "metadata": {},
   "outputs": [
    {
     "data": {
      "text/plain": [
       "'SELECT * FROM Employees'"
      ]
     },
     "execution_count": 15,
     "metadata": {},
     "output_type": "execute_result"
    }
   ],
   "source": [
    "response['choices'][0]['text'] #output the response"
   ]
  },
  {
   "cell_type": "code",
   "execution_count": 9,
   "metadata": {},
   "outputs": [
    {
     "name": "stderr",
     "output_type": "stream",
     "text": [
      "from_string grammar:\n",
      "root ::= select-statement root_2 \n",
      "select-statement ::= [S] [E] [L] [E] [C] [T] [ ] select-statement_4 columns select-statement_7 select-statement_9 select-statement_11 select-statement_13 select-statement_15 select-statement_17 \n",
      "root_2 ::= [;] | \n",
      "distinct ::= distinct_18 \n",
      "select-statement_4 ::= distinct | \n",
      "columns ::= [*] | column-or-function columns_21 \n",
      "from-clause ::= from-clause_41 [F] [R] [O] [M] [ ] from-clause_42 from-clause_47 \n",
      "select-statement_7 ::= from-clause | \n",
      "where-clause ::= where-clause_59 [W] [H] [E] [R] [E] [ ] condition \n",
      "select-statement_9 ::= where-clause | \n",
      "join-clause ::= join-clause_61 [J] [O] [I] [N] [ ] table join-clause_63 [ ] [O] [N] [ ] condition \n",
      "select-statement_11 ::= join-clause select-statement_11 | \n",
      "group-by-clause ::= group-by-clause_78 [G] [R] [O] [U] [P] [ ] [B] [Y] [ ] group-columns \n",
      "select-statement_13 ::= group-by-clause | \n",
      "order-by-clause ::= order-by-clause_82 [O] [R] [D] [E] [R] [ ] [B] [Y] [ ] order-columns \n",
      "select-statement_15 ::= order-by-clause | \n",
      "limit-clause ::= limit-clause_89 [L] [I] [M] [I] [T] [ ] number limit-clause_91 \n",
      "select-statement_17 ::= limit-clause | \n",
      "distinct_18 ::= [D] [I] [S] [T] [I] [N] [C] [T] [ ] | \n",
      "column-or-function ::= column-or-function_22 \n",
      "columns_20 ::= [,] [ ] column-or-function \n",
      "columns_21 ::= columns_20 columns_21 | \n",
      "column-or-function_22 ::= column | function column-or-function_26 \n",
      "column ::= column_29 column_32 column_33 \n",
      "function ::= [a-zA-Z_] function_38 [(] function_39 [)] \n",
      "alias ::= alias_52 alias_54 [a-zA-Z] alias_55 \n",
      "column-or-function_26 ::= alias | \n",
      "column_27 ::= schema-name [.] \n",
      "schema-name ::= [a-zA-Z_] schema-name_36 \n",
      "column_29 ::= column_27 | \n",
      "column_30 ::= table-name [.] \n",
      "table-name ::= [a-zA-Z_] table-name_37 \n",
      "column_32 ::= column_30 | \n",
      "column_33 ::= [a-zA-Z_] column_34 | quoted-identifier \n",
      "column_34 ::= [a-zA-Z0-9_] column_34 | \n",
      "quoted-identifier ::= [\"] quoted-identifier_92 [\"] \n",
      "schema-name_36 ::= [a-zA-Z0-9_] schema-name_36 | \n",
      "table-name_37 ::= [a-zA-Z0-9_] table-name_37 | \n",
      "function_38 ::= [a-zA-Z0-9_] function_38 | \n",
      "function_39 ::= column | [*] | \n",
      "ws ::= ws_93 \n",
      "from-clause_41 ::= ws | \n",
      "from-clause_42 ::= tables | subquery \n",
      "tables ::= table tables_50 \n",
      "subquery ::= [(] select-statement [)] \n",
      "from-clause_45 ::= ws table-alias \n",
      "table-alias ::= table-alias_56 table-alias_58 [a-zA-Z] \n",
      "from-clause_47 ::= from-clause_45 | \n",
      "table ::= [a-zA-Z_] table_51 | [(] select-statement [)] | quoted-identifier \n",
      "tables_49 ::= [,] [ ] table \n",
      "tables_50 ::= tables_49 tables_50 | \n",
      "table_51 ::= [a-zA-Z0-9_] table_51 | \n",
      "alias_52 ::= ws | \n",
      "alias_53 ::= [A] [S] [ ] | [a] [s] [ ] \n",
      "alias_54 ::= alias_53 | \n",
      "alias_55 ::= [a-zA-Z0-9_] alias_55 | \n",
      "table-alias_56 ::= ws | \n",
      "table-alias_57 ::= [A] [S] [ ] | [a] [s] [ ] \n",
      "table-alias_58 ::= table-alias_57 | \n",
      "where-clause_59 ::= ws | \n",
      "condition ::= condition_64 \n",
      "join-clause_61 ::= ws | \n",
      "join-clause_62 ::= ws alias \n",
      "join-clause_63 ::= join-clause_62 | \n",
      "condition_64 ::= column condition_65 comparator condition_67 condition_68 | column [ ] [I] [N] [ ] [(] select-statement [)] | [E] [X] [I] [S] [T] [S] [ ] [(] select-statement [)] \n",
      "condition_65 ::= ws | \n",
      "comparator ::= [=] | [<] [>] | [<] | [>] | [<] [=] | [>] [=] \n",
      "condition_67 ::= ws | \n",
      "condition_68 ::= value | column \n",
      "value ::= number | quoted-string | [(] select-statement [)] \n",
      "number ::= number_72 number_73 number_76 \n",
      "quoted-string ::= ['] quoted-string_77 ['] \n",
      "number_72 ::= [-] | \n",
      "number_73 ::= [0-9] number_73 | [0-9] \n",
      "number_74 ::= [.] number_75 \n",
      "number_75 ::= [0-9] number_75 | [0-9] \n",
      "number_76 ::= number_74 | \n",
      "quoted-string_77 ::= [^'] quoted-string_77 | \n",
      "group-by-clause_78 ::= ws | \n",
      "group-columns ::= column group-columns_81 \n",
      "group-columns_80 ::= [,] [ ] column \n",
      "group-columns_81 ::= group-columns_80 group-columns_81 | \n",
      "order-by-clause_82 ::= ws | \n",
      "order-columns ::= order-column order-columns_86 \n",
      "order-column ::= column order-column_88 \n",
      "order-columns_85 ::= [,] [ ] order-column \n",
      "order-columns_86 ::= order-columns_85 order-columns_86 | \n",
      "order-column_87 ::= [ ] [A] [S] [C] | [ ] [D] [E] [S] [C] \n",
      "order-column_88 ::= order-column_87 | \n",
      "limit-clause_89 ::= ws | \n",
      "limit-clause_90 ::= [ ] [O] [F] [F] [S] [E] [T] [ ] number \n",
      "limit-clause_91 ::= limit-clause_90 | \n",
      "quoted-identifier_92 ::= [^\"] quoted-identifier_92 | \n",
      "ws_93 ::= [ <U+0009><U+000A>] ws_93 | \n",
      "columns-placeholder ::= [E] [m] [p] [l] [o] [y] [e] [e] [_] [I] [D] | [N] [a] [m] [e] | [A] [g] [e] | [C] [i] [t] [y] | [E] [m] [p] [l] [o] [y] [e] [e] [_] [I] [D] | [S] [h] [o] [p] [_] [I] [D] | [N] [a] [m] [e] | [L] [o] [c] [a] [t] [i] [o] [n] | [D] [i] [s] [t] [r] [i] [c] [t] | [N] [u] [m] [b] [e] [r] [_] [p] [r] [o] [d] [u] [c] [t] [s] | [M] [a] [n] [a] [g] [e] [r] [_] [n] [a] [m] [e] | [S] [h] [o] [p] [_] [I] [D] | [S] [h] [o] [p] [_] [I] [D] | [E] [m] [p] [l] [o] [y] [e] [e] [_] [I] [D] | [S] [t] [a] [r] [t] [_] [f] [r] [o] [m] | [I] [s] [_] [f] [u] [l] [l] [_] [t] [i] [m] [e] | [E] [m] [p] [l] [o] [y] [e] [e] [_] [I] [D] | [E] [m] [p] [l] [o] [y] [e] [e] [_] [I] [D] | [Y] [e] [a] [r] [_] [a] [w] [a] [r] [d] [e] [d] | [B] [o] [n] [u] [s] | [E] [m] [p] [l] [o] [y] [e] [e] [_] [I] [D] | [Y] [e] [a] [r] [_] [a] [w] [a] [r] [d] [e] [d] \n",
      "tables-placeholder ::= [e] [m] [p] [l] [o] [y] [e] [e] | [s] [h] [o] [p] | [h] [i] [r] [i] [n] [g] | [e] [v] [a] [l] [u] [a] [t] [i] [o] [n] \n",
      "aliases-placeholder ::= [E] [m] [p] [l] [o] [y] [e] [e] [_] [I] [D] | [N] [a] [m] [e] | [A] [g] [e] | [C] [i] [t] [y] | [E] [m] [p] [l] [o] [y] [e] [e] [_] [I] [D] | [S] [h] [o] [p] [_] [I] [D] | [N] [a] [m] [e] | [L] [o] [c] [a] [t] [i] [o] [n] | [D] [i] [s] [t] [r] [i] [c] [t] | [N] [u] [m] [b] [e] [r] [_] [p] [r] [o] [d] [u] [c] [t] [s] | [M] [a] [n] [a] [g] [e] [r] [_] [n] [a] [m] [e] | [S] [h] [o] [p] [_] [I] [D] | [S] [h] [o] [p] [_] [I] [D] | [E] [m] [p] [l] [o] [y] [e] [e] [_] [I] [D] | [S] [t] [a] [r] [t] [_] [f] [r] [o] [m] | [I] [s] [_] [f] [u] [l] [l] [_] [t] [i] [m] [e] | [E] [m] [p] [l] [o] [y] [e] [e] [_] [I] [D] | [E] [m] [p] [l] [o] [y] [e] [e] [_] [I] [D] | [Y] [e] [a] [r] [_] [a] [w] [a] [r] [d] [e] [d] | [B] [o] [n] [u] [s] | [E] [m] [p] [l] [o] [y] [e] [e] [_] [I] [D] | [Y] [e] [a] [r] [_] [a] [w] [a] [r] [d] [e] [d] \n",
      "\n"
     ]
    }
   ],
   "source": [
    "grammar = LlamaGrammar.from_file(\"grammars/grammar_template.gbnf\")"
   ]
  },
  {
   "cell_type": "code",
   "execution_count": 7,
   "metadata": {},
   "outputs": [],
   "source": [
    "#prompt the model\n",
    "response = llm(\n",
    "    \"Show all employees\", #prompt\n",
    "    grammar=grammar, max_tokens=-1 # as necessary tokens\n",
    ")"
   ]
  },
  {
   "cell_type": "code",
   "execution_count": 8,
   "metadata": {},
   "outputs": [
    {
     "data": {
      "text/plain": [
       "'SELECT * FROM Employee'"
      ]
     },
     "execution_count": 8,
     "metadata": {},
     "output_type": "execute_result"
    }
   ],
   "source": [
    "response['choices'][0]['text'] #output the response"
   ]
  },
  {
   "cell_type": "code",
   "execution_count": null,
   "metadata": {},
   "outputs": [],
   "source": []
  }
 ],
 "metadata": {
  "kernelspec": {
   "display_name": "Python 3",
   "language": "python",
   "name": "python3"
  },
  "language_info": {
   "codemirror_mode": {
    "name": "ipython",
    "version": 3
   },
   "file_extension": ".py",
   "mimetype": "text/x-python",
   "name": "python",
   "nbconvert_exporter": "python",
   "pygments_lexer": "ipython3",
   "version": "3.11.9"
  }
 },
 "nbformat": 4,
 "nbformat_minor": 2
}
